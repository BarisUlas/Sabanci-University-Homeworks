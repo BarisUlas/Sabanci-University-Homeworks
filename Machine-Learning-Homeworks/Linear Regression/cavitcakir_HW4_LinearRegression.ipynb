{
  "nbformat": 4,
  "nbformat_minor": 0,
  "metadata": {
    "colab": {
      "name": "cavitcakir_HW4_LinearRegression.ipynb",
      "provenance": [],
      "collapsed_sections": []
    },
    "kernelspec": {
      "name": "python3",
      "display_name": "Python 3"
    }
  },
  "cells": [
    {
      "cell_type": "markdown",
      "metadata": {
        "id": "DTfDIhAYYjaX",
        "colab_type": "text"
      },
      "source": [
        "# Load the dataset"
      ]
    },
    {
      "cell_type": "code",
      "metadata": {
        "id": "yFpeyxi8aqIl",
        "colab_type": "code",
        "outputId": "d83c8593-fe21-4839-a6f7-cbca754f523a",
        "colab": {
          "base_uri": "https://localhost:8080/",
          "height": 304
        }
      },
      "source": [
        "import pandas as pd\n",
        "import numpy as np\n",
        "import matplotlib.pyplot as plt                   \n",
        "\n",
        "df_orig = pd.read_csv('https://raw.githubusercontent.com/OpenClassrooms-Student-Center/Evaluate-Improve-Models/master/house_prices.csv')\n",
        "df_orig.sample(5)"
      ],
      "execution_count": 73,
      "outputs": [
        {
          "output_type": "execute_result",
          "data": {
            "text/html": [
              "<div>\n",
              "<style scoped>\n",
              "    .dataframe tbody tr th:only-of-type {\n",
              "        vertical-align: middle;\n",
              "    }\n",
              "\n",
              "    .dataframe tbody tr th {\n",
              "        vertical-align: top;\n",
              "    }\n",
              "\n",
              "    .dataframe thead th {\n",
              "        text-align: right;\n",
              "    }\n",
              "</style>\n",
              "<table border=\"1\" class=\"dataframe\">\n",
              "  <thead>\n",
              "    <tr style=\"text-align: right;\">\n",
              "      <th></th>\n",
              "      <th>MS SubClass</th>\n",
              "      <th>Lot Frontage</th>\n",
              "      <th>Lot Area</th>\n",
              "      <th>Overall Qual</th>\n",
              "      <th>Overall Cond</th>\n",
              "      <th>Year Built</th>\n",
              "      <th>Year Remod/Add</th>\n",
              "      <th>Mas Vnr Area</th>\n",
              "      <th>BsmtFin SF 1</th>\n",
              "      <th>BsmtFin SF 2</th>\n",
              "      <th>Bsmt Unf SF</th>\n",
              "      <th>Total Bsmt SF</th>\n",
              "      <th>1st Flr SF</th>\n",
              "      <th>2nd Flr SF</th>\n",
              "      <th>Low Qual Fin SF</th>\n",
              "      <th>Gr Liv Area</th>\n",
              "      <th>Bsmt Full Bath</th>\n",
              "      <th>Bsmt Half Bath</th>\n",
              "      <th>Full Bath</th>\n",
              "      <th>Half Bath</th>\n",
              "      <th>Bedroom AbvGr</th>\n",
              "      <th>Kitchen AbvGr</th>\n",
              "      <th>TotRms AbvGrd</th>\n",
              "      <th>Fireplaces</th>\n",
              "      <th>Garage Yr Blt</th>\n",
              "      <th>Garage Cars</th>\n",
              "      <th>Garage Area</th>\n",
              "      <th>Wood Deck SF</th>\n",
              "      <th>Open Porch SF</th>\n",
              "      <th>Enclosed Porch</th>\n",
              "      <th>3Ssn Porch</th>\n",
              "      <th>Screen Porch</th>\n",
              "      <th>Pool Area</th>\n",
              "      <th>Misc Val</th>\n",
              "      <th>Mo Sold</th>\n",
              "      <th>Yr Sold</th>\n",
              "      <th>MS Zoning_A (agr)</th>\n",
              "      <th>MS Zoning_C (all)</th>\n",
              "      <th>MS Zoning_FV</th>\n",
              "      <th>MS Zoning_I (all)</th>\n",
              "      <th>...</th>\n",
              "      <th>Garage Qual_Po</th>\n",
              "      <th>Garage Qual_TA</th>\n",
              "      <th>Garage Cond_Ex</th>\n",
              "      <th>Garage Cond_Fa</th>\n",
              "      <th>Garage Cond_Gd</th>\n",
              "      <th>Garage Cond_Po</th>\n",
              "      <th>Garage Cond_TA</th>\n",
              "      <th>Paved Drive_N</th>\n",
              "      <th>Paved Drive_P</th>\n",
              "      <th>Paved Drive_Y</th>\n",
              "      <th>Pool QC_Ex</th>\n",
              "      <th>Pool QC_Fa</th>\n",
              "      <th>Pool QC_Gd</th>\n",
              "      <th>Pool QC_TA</th>\n",
              "      <th>Fence_GdPrv</th>\n",
              "      <th>Fence_GdWo</th>\n",
              "      <th>Fence_MnPrv</th>\n",
              "      <th>Fence_MnWw</th>\n",
              "      <th>Misc Feature_Elev</th>\n",
              "      <th>Misc Feature_Gar2</th>\n",
              "      <th>Misc Feature_Othr</th>\n",
              "      <th>Misc Feature_Shed</th>\n",
              "      <th>Misc Feature_TenC</th>\n",
              "      <th>Sale Type_COD</th>\n",
              "      <th>Sale Type_CWD</th>\n",
              "      <th>Sale Type_Con</th>\n",
              "      <th>Sale Type_ConLD</th>\n",
              "      <th>Sale Type_ConLI</th>\n",
              "      <th>Sale Type_ConLw</th>\n",
              "      <th>Sale Type_New</th>\n",
              "      <th>Sale Type_Oth</th>\n",
              "      <th>Sale Type_VWD</th>\n",
              "      <th>Sale Type_WD</th>\n",
              "      <th>Sale Condition_Abnorml</th>\n",
              "      <th>Sale Condition_AdjLand</th>\n",
              "      <th>Sale Condition_Alloca</th>\n",
              "      <th>Sale Condition_Family</th>\n",
              "      <th>Sale Condition_Normal</th>\n",
              "      <th>Sale Condition_Partial</th>\n",
              "      <th>SalesPrice</th>\n",
              "    </tr>\n",
              "  </thead>\n",
              "  <tbody>\n",
              "    <tr>\n",
              "      <th>927</th>\n",
              "      <td>70</td>\n",
              "      <td>75.0</td>\n",
              "      <td>12000</td>\n",
              "      <td>7</td>\n",
              "      <td>7</td>\n",
              "      <td>1941</td>\n",
              "      <td>1950</td>\n",
              "      <td>0.0</td>\n",
              "      <td>275.0</td>\n",
              "      <td>0.0</td>\n",
              "      <td>429.0</td>\n",
              "      <td>704.0</td>\n",
              "      <td>860</td>\n",
              "      <td>704</td>\n",
              "      <td>0</td>\n",
              "      <td>1564</td>\n",
              "      <td>0.0</td>\n",
              "      <td>0.0</td>\n",
              "      <td>1</td>\n",
              "      <td>1</td>\n",
              "      <td>3</td>\n",
              "      <td>1</td>\n",
              "      <td>7</td>\n",
              "      <td>1</td>\n",
              "      <td>1941.000000</td>\n",
              "      <td>1.0</td>\n",
              "      <td>234.0</td>\n",
              "      <td>0</td>\n",
              "      <td>0</td>\n",
              "      <td>0</td>\n",
              "      <td>0</td>\n",
              "      <td>0</td>\n",
              "      <td>0</td>\n",
              "      <td>0</td>\n",
              "      <td>7</td>\n",
              "      <td>2009</td>\n",
              "      <td>0</td>\n",
              "      <td>0</td>\n",
              "      <td>0</td>\n",
              "      <td>0</td>\n",
              "      <td>...</td>\n",
              "      <td>0</td>\n",
              "      <td>1</td>\n",
              "      <td>0</td>\n",
              "      <td>0</td>\n",
              "      <td>0</td>\n",
              "      <td>0</td>\n",
              "      <td>1</td>\n",
              "      <td>0</td>\n",
              "      <td>0</td>\n",
              "      <td>1</td>\n",
              "      <td>0</td>\n",
              "      <td>0</td>\n",
              "      <td>0</td>\n",
              "      <td>0</td>\n",
              "      <td>0</td>\n",
              "      <td>0</td>\n",
              "      <td>0</td>\n",
              "      <td>0</td>\n",
              "      <td>0</td>\n",
              "      <td>0</td>\n",
              "      <td>0</td>\n",
              "      <td>0</td>\n",
              "      <td>0</td>\n",
              "      <td>0</td>\n",
              "      <td>0</td>\n",
              "      <td>0</td>\n",
              "      <td>0</td>\n",
              "      <td>0</td>\n",
              "      <td>0</td>\n",
              "      <td>0</td>\n",
              "      <td>0</td>\n",
              "      <td>0</td>\n",
              "      <td>1</td>\n",
              "      <td>0</td>\n",
              "      <td>0</td>\n",
              "      <td>0</td>\n",
              "      <td>0</td>\n",
              "      <td>1</td>\n",
              "      <td>0</td>\n",
              "      <td>174500</td>\n",
              "    </tr>\n",
              "    <tr>\n",
              "      <th>2200</th>\n",
              "      <td>50</td>\n",
              "      <td>60.0</td>\n",
              "      <td>7200</td>\n",
              "      <td>5</td>\n",
              "      <td>7</td>\n",
              "      <td>1937</td>\n",
              "      <td>1950</td>\n",
              "      <td>252.0</td>\n",
              "      <td>569.0</td>\n",
              "      <td>0.0</td>\n",
              "      <td>162.0</td>\n",
              "      <td>731.0</td>\n",
              "      <td>981</td>\n",
              "      <td>787</td>\n",
              "      <td>0</td>\n",
              "      <td>1768</td>\n",
              "      <td>1.0</td>\n",
              "      <td>0.0</td>\n",
              "      <td>1</td>\n",
              "      <td>1</td>\n",
              "      <td>3</td>\n",
              "      <td>1</td>\n",
              "      <td>7</td>\n",
              "      <td>2</td>\n",
              "      <td>1939.000000</td>\n",
              "      <td>1.0</td>\n",
              "      <td>240.0</td>\n",
              "      <td>0</td>\n",
              "      <td>0</td>\n",
              "      <td>264</td>\n",
              "      <td>0</td>\n",
              "      <td>0</td>\n",
              "      <td>0</td>\n",
              "      <td>0</td>\n",
              "      <td>6</td>\n",
              "      <td>2007</td>\n",
              "      <td>0</td>\n",
              "      <td>0</td>\n",
              "      <td>0</td>\n",
              "      <td>0</td>\n",
              "      <td>...</td>\n",
              "      <td>0</td>\n",
              "      <td>1</td>\n",
              "      <td>0</td>\n",
              "      <td>0</td>\n",
              "      <td>0</td>\n",
              "      <td>0</td>\n",
              "      <td>1</td>\n",
              "      <td>0</td>\n",
              "      <td>0</td>\n",
              "      <td>1</td>\n",
              "      <td>0</td>\n",
              "      <td>0</td>\n",
              "      <td>0</td>\n",
              "      <td>0</td>\n",
              "      <td>0</td>\n",
              "      <td>0</td>\n",
              "      <td>1</td>\n",
              "      <td>0</td>\n",
              "      <td>0</td>\n",
              "      <td>0</td>\n",
              "      <td>0</td>\n",
              "      <td>0</td>\n",
              "      <td>0</td>\n",
              "      <td>0</td>\n",
              "      <td>0</td>\n",
              "      <td>0</td>\n",
              "      <td>0</td>\n",
              "      <td>0</td>\n",
              "      <td>0</td>\n",
              "      <td>0</td>\n",
              "      <td>0</td>\n",
              "      <td>0</td>\n",
              "      <td>1</td>\n",
              "      <td>0</td>\n",
              "      <td>0</td>\n",
              "      <td>0</td>\n",
              "      <td>0</td>\n",
              "      <td>1</td>\n",
              "      <td>0</td>\n",
              "      <td>175000</td>\n",
              "    </tr>\n",
              "    <tr>\n",
              "      <th>2904</th>\n",
              "      <td>90</td>\n",
              "      <td>78.0</td>\n",
              "      <td>7020</td>\n",
              "      <td>7</td>\n",
              "      <td>5</td>\n",
              "      <td>1997</td>\n",
              "      <td>1997</td>\n",
              "      <td>200.0</td>\n",
              "      <td>1243.0</td>\n",
              "      <td>0.0</td>\n",
              "      <td>45.0</td>\n",
              "      <td>1288.0</td>\n",
              "      <td>1368</td>\n",
              "      <td>0</td>\n",
              "      <td>0</td>\n",
              "      <td>1368</td>\n",
              "      <td>2.0</td>\n",
              "      <td>0.0</td>\n",
              "      <td>2</td>\n",
              "      <td>0</td>\n",
              "      <td>2</td>\n",
              "      <td>2</td>\n",
              "      <td>8</td>\n",
              "      <td>0</td>\n",
              "      <td>1997.000000</td>\n",
              "      <td>4.0</td>\n",
              "      <td>784.0</td>\n",
              "      <td>0</td>\n",
              "      <td>48</td>\n",
              "      <td>0</td>\n",
              "      <td>0</td>\n",
              "      <td>0</td>\n",
              "      <td>0</td>\n",
              "      <td>0</td>\n",
              "      <td>11</td>\n",
              "      <td>2006</td>\n",
              "      <td>0</td>\n",
              "      <td>0</td>\n",
              "      <td>0</td>\n",
              "      <td>0</td>\n",
              "      <td>...</td>\n",
              "      <td>0</td>\n",
              "      <td>1</td>\n",
              "      <td>0</td>\n",
              "      <td>0</td>\n",
              "      <td>0</td>\n",
              "      <td>0</td>\n",
              "      <td>1</td>\n",
              "      <td>0</td>\n",
              "      <td>0</td>\n",
              "      <td>1</td>\n",
              "      <td>0</td>\n",
              "      <td>0</td>\n",
              "      <td>0</td>\n",
              "      <td>0</td>\n",
              "      <td>0</td>\n",
              "      <td>0</td>\n",
              "      <td>0</td>\n",
              "      <td>0</td>\n",
              "      <td>0</td>\n",
              "      <td>0</td>\n",
              "      <td>0</td>\n",
              "      <td>0</td>\n",
              "      <td>0</td>\n",
              "      <td>0</td>\n",
              "      <td>0</td>\n",
              "      <td>0</td>\n",
              "      <td>0</td>\n",
              "      <td>0</td>\n",
              "      <td>0</td>\n",
              "      <td>0</td>\n",
              "      <td>0</td>\n",
              "      <td>0</td>\n",
              "      <td>1</td>\n",
              "      <td>0</td>\n",
              "      <td>0</td>\n",
              "      <td>0</td>\n",
              "      <td>0</td>\n",
              "      <td>1</td>\n",
              "      <td>0</td>\n",
              "      <td>215000</td>\n",
              "    </tr>\n",
              "    <tr>\n",
              "      <th>2879</th>\n",
              "      <td>30</td>\n",
              "      <td>69.0</td>\n",
              "      <td>12366</td>\n",
              "      <td>3</td>\n",
              "      <td>5</td>\n",
              "      <td>1945</td>\n",
              "      <td>1950</td>\n",
              "      <td>0.0</td>\n",
              "      <td>0.0</td>\n",
              "      <td>0.0</td>\n",
              "      <td>0.0</td>\n",
              "      <td>0.0</td>\n",
              "      <td>729</td>\n",
              "      <td>0</td>\n",
              "      <td>0</td>\n",
              "      <td>729</td>\n",
              "      <td>0.0</td>\n",
              "      <td>0.0</td>\n",
              "      <td>1</td>\n",
              "      <td>0</td>\n",
              "      <td>2</td>\n",
              "      <td>1</td>\n",
              "      <td>5</td>\n",
              "      <td>0</td>\n",
              "      <td>1978.132443</td>\n",
              "      <td>0.0</td>\n",
              "      <td>0.0</td>\n",
              "      <td>0</td>\n",
              "      <td>0</td>\n",
              "      <td>23</td>\n",
              "      <td>0</td>\n",
              "      <td>0</td>\n",
              "      <td>0</td>\n",
              "      <td>0</td>\n",
              "      <td>10</td>\n",
              "      <td>2006</td>\n",
              "      <td>0</td>\n",
              "      <td>1</td>\n",
              "      <td>0</td>\n",
              "      <td>0</td>\n",
              "      <td>...</td>\n",
              "      <td>0</td>\n",
              "      <td>0</td>\n",
              "      <td>0</td>\n",
              "      <td>0</td>\n",
              "      <td>0</td>\n",
              "      <td>0</td>\n",
              "      <td>0</td>\n",
              "      <td>1</td>\n",
              "      <td>0</td>\n",
              "      <td>0</td>\n",
              "      <td>0</td>\n",
              "      <td>0</td>\n",
              "      <td>0</td>\n",
              "      <td>0</td>\n",
              "      <td>0</td>\n",
              "      <td>0</td>\n",
              "      <td>0</td>\n",
              "      <td>0</td>\n",
              "      <td>0</td>\n",
              "      <td>0</td>\n",
              "      <td>0</td>\n",
              "      <td>0</td>\n",
              "      <td>0</td>\n",
              "      <td>0</td>\n",
              "      <td>0</td>\n",
              "      <td>0</td>\n",
              "      <td>0</td>\n",
              "      <td>0</td>\n",
              "      <td>0</td>\n",
              "      <td>0</td>\n",
              "      <td>0</td>\n",
              "      <td>0</td>\n",
              "      <td>1</td>\n",
              "      <td>1</td>\n",
              "      <td>0</td>\n",
              "      <td>0</td>\n",
              "      <td>0</td>\n",
              "      <td>0</td>\n",
              "      <td>0</td>\n",
              "      <td>51689</td>\n",
              "    </tr>\n",
              "    <tr>\n",
              "      <th>2833</th>\n",
              "      <td>50</td>\n",
              "      <td>56.0</td>\n",
              "      <td>6956</td>\n",
              "      <td>4</td>\n",
              "      <td>7</td>\n",
              "      <td>1948</td>\n",
              "      <td>1950</td>\n",
              "      <td>0.0</td>\n",
              "      <td>0.0</td>\n",
              "      <td>0.0</td>\n",
              "      <td>624.0</td>\n",
              "      <td>624.0</td>\n",
              "      <td>624</td>\n",
              "      <td>312</td>\n",
              "      <td>0</td>\n",
              "      <td>936</td>\n",
              "      <td>0.0</td>\n",
              "      <td>0.0</td>\n",
              "      <td>1</td>\n",
              "      <td>0</td>\n",
              "      <td>3</td>\n",
              "      <td>1</td>\n",
              "      <td>5</td>\n",
              "      <td>0</td>\n",
              "      <td>1948.000000</td>\n",
              "      <td>1.0</td>\n",
              "      <td>265.0</td>\n",
              "      <td>0</td>\n",
              "      <td>0</td>\n",
              "      <td>0</td>\n",
              "      <td>0</td>\n",
              "      <td>0</td>\n",
              "      <td>0</td>\n",
              "      <td>0</td>\n",
              "      <td>4</td>\n",
              "      <td>2006</td>\n",
              "      <td>0</td>\n",
              "      <td>0</td>\n",
              "      <td>0</td>\n",
              "      <td>0</td>\n",
              "      <td>...</td>\n",
              "      <td>0</td>\n",
              "      <td>1</td>\n",
              "      <td>0</td>\n",
              "      <td>0</td>\n",
              "      <td>0</td>\n",
              "      <td>1</td>\n",
              "      <td>0</td>\n",
              "      <td>0</td>\n",
              "      <td>0</td>\n",
              "      <td>1</td>\n",
              "      <td>0</td>\n",
              "      <td>0</td>\n",
              "      <td>0</td>\n",
              "      <td>0</td>\n",
              "      <td>0</td>\n",
              "      <td>0</td>\n",
              "      <td>0</td>\n",
              "      <td>0</td>\n",
              "      <td>0</td>\n",
              "      <td>0</td>\n",
              "      <td>0</td>\n",
              "      <td>0</td>\n",
              "      <td>0</td>\n",
              "      <td>0</td>\n",
              "      <td>0</td>\n",
              "      <td>0</td>\n",
              "      <td>0</td>\n",
              "      <td>0</td>\n",
              "      <td>0</td>\n",
              "      <td>0</td>\n",
              "      <td>0</td>\n",
              "      <td>0</td>\n",
              "      <td>1</td>\n",
              "      <td>0</td>\n",
              "      <td>0</td>\n",
              "      <td>0</td>\n",
              "      <td>0</td>\n",
              "      <td>1</td>\n",
              "      <td>0</td>\n",
              "      <td>97900</td>\n",
              "    </tr>\n",
              "  </tbody>\n",
              "</table>\n",
              "<p>5 rows × 305 columns</p>\n",
              "</div>"
            ],
            "text/plain": [
              "      MS SubClass  Lot Frontage  ...  Sale Condition_Partial  SalesPrice\n",
              "927            70          75.0  ...                       0      174500\n",
              "2200           50          60.0  ...                       0      175000\n",
              "2904           90          78.0  ...                       0      215000\n",
              "2879           30          69.0  ...                       0       51689\n",
              "2833           50          56.0  ...                       0       97900\n",
              "\n",
              "[5 rows x 305 columns]"
            ]
          },
          "metadata": {
            "tags": []
          },
          "execution_count": 73
        }
      ]
    },
    {
      "cell_type": "markdown",
      "metadata": {
        "id": "vHC8A8Io8oQG",
        "colab_type": "text"
      },
      "source": [
        "# \"Garage Area\" and \"SalesPrice\" features are selected to analyze."
      ]
    },
    {
      "cell_type": "code",
      "metadata": {
        "id": "pq6dFg6thq97",
        "colab_type": "code",
        "colab": {}
      },
      "source": [
        "df = df_orig[['Garage Area','SalesPrice']]# code comes here"
      ],
      "execution_count": 0,
      "outputs": []
    },
    {
      "cell_type": "markdown",
      "metadata": {
        "id": "TpEvfXkM9r_2",
        "colab_type": "text"
      },
      "source": [
        "## Convert the data into numpy arrays of two variables, X and y."
      ]
    },
    {
      "cell_type": "code",
      "metadata": {
        "id": "e9CMMob_hzLe",
        "colab_type": "code",
        "outputId": "1448abd0-3b45-4939-c5e9-b346a8a1f80b",
        "colab": {
          "base_uri": "https://localhost:8080/",
          "height": 51
        }
      },
      "source": [
        "X = np.array(df[['Garage Area']])\n",
        "y = np.array(df[['SalesPrice']])\n",
        "print(X.shape) # Vewing the shape of X\n",
        "print(y.shape) # Vewing the shape of y"
      ],
      "execution_count": 75,
      "outputs": [
        {
          "output_type": "stream",
          "text": [
            "(2930, 1)\n",
            "(2930, 1)\n"
          ],
          "name": "stdout"
        }
      ]
    },
    {
      "cell_type": "markdown",
      "metadata": {
        "id": "JjnOjQWL_HVv",
        "colab_type": "text"
      },
      "source": [
        "## Split train and test data with 0.2 ratio."
      ]
    },
    {
      "cell_type": "code",
      "metadata": {
        "id": "Qbhe6KTZaTqR",
        "colab_type": "code",
        "colab": {}
      },
      "source": [
        "from sklearn.model_selection import train_test_split\n",
        "(train_x, test_x, train_y, test_y) = train_test_split(X, y, test_size=0.2, random_state = 0)# code comes here"
      ],
      "execution_count": 0,
      "outputs": []
    },
    {
      "cell_type": "markdown",
      "metadata": {
        "id": "l2d820kV_zO7",
        "colab_type": "text"
      },
      "source": [
        "# Linear Regression\n",
        "Train a linear regression."
      ]
    },
    {
      "cell_type": "code",
      "metadata": {
        "id": "XRb1ZUTbaoy0",
        "colab_type": "code",
        "outputId": "f1c775d3-cd34-4bd4-db15-65016268f9b4",
        "colab": {
          "base_uri": "https://localhost:8080/",
          "height": 34
        }
      },
      "source": [
        "from sklearn import linear_model \n",
        "\n",
        "regressor = linear_model.LinearRegression()\n",
        "\n",
        "regressor.fit(train_x,train_y) "
      ],
      "execution_count": 77,
      "outputs": [
        {
          "output_type": "execute_result",
          "data": {
            "text/plain": [
              "LinearRegression(copy_X=True, fit_intercept=True, n_jobs=None, normalize=False)"
            ]
          },
          "metadata": {
            "tags": []
          },
          "execution_count": 77
        }
      ]
    },
    {
      "cell_type": "markdown",
      "metadata": {
        "id": "v670cHDcAGwn",
        "colab_type": "text"
      },
      "source": [
        "## Calculate train and test R2."
      ]
    },
    {
      "cell_type": "code",
      "metadata": {
        "id": "YzG3jkxgaxL0",
        "colab_type": "code",
        "outputId": "6d872bf2-aca8-4c11-bac4-a2fab8773b6b",
        "colab": {
          "base_uri": "https://localhost:8080/",
          "height": 51
        }
      },
      "source": [
        "from sklearn.metrics import r2_score\n",
        "\n",
        "\n",
        "pred_y = regressor.predict(train_x)\n",
        "# code comes here\n",
        "print(\"Train:\", r2_score(train_y,pred_y)) \n",
        "\n",
        "pred_y = regressor.predict(test_x)\n",
        "# code comes here\n",
        "print(\"Test:\", r2_score(test_y,pred_y)) "
      ],
      "execution_count": 78,
      "outputs": [
        {
          "output_type": "stream",
          "text": [
            "Train: 0.39923858732928674\n",
            "Test: 0.4504070679149049\n"
          ],
          "name": "stdout"
        }
      ]
    },
    {
      "cell_type": "markdown",
      "metadata": {
        "id": "CuKDdtxSvH86",
        "colab_type": "text"
      },
      "source": [
        "## Print the bias and the slope."
      ]
    },
    {
      "cell_type": "code",
      "metadata": {
        "id": "Rqr6u4clvN7I",
        "colab_type": "code",
        "outputId": "243e8785-021a-4717-a91f-9b581e82d836",
        "colab": {
          "base_uri": "https://localhost:8080/",
          "height": 51
        }
      },
      "source": [
        "print('Regressor coeffient or slope:',regressor.coef_[0][0])\n",
        "print('Interception point with axis:',regressor.intercept_[0])"
      ],
      "execution_count": 79,
      "outputs": [
        {
          "output_type": "stream",
          "text": [
            "Regressor coeffient or slope: 233.2031085567466\n",
            "Interception point with axis: 70159.21749224591\n"
          ],
          "name": "stdout"
        }
      ]
    },
    {
      "cell_type": "markdown",
      "metadata": {
        "id": "cWtykiPdCXyY",
        "colab_type": "text"
      },
      "source": [
        "## Plot the test set with scatter plot and add the linear regression model line.\n",
        "Remember linear regression recitation."
      ]
    },
    {
      "cell_type": "code",
      "metadata": {
        "id": "1I_pXHajCtbA",
        "colab_type": "code",
        "outputId": "a1a5a86b-2e87-47fc-8339-c4bfd4f1b8c9",
        "colab": {
          "base_uri": "https://localhost:8080/",
          "height": 295
        }
      },
      "source": [
        "# Plot a graph with X_test vs y_test\n",
        "plt.scatter(test_x,test_y,color=\"green\")\n",
        "# Regressior line showing\n",
        "pred_y = regressor.predict(train_x)\n",
        "plt.plot(train_x,pred_y,color=\"red\",linewidth=3)\n",
        "plt.title('Regression(Test Set)')\n",
        "plt.xlabel('HP')\n",
        "plt.ylabel('MSRP')\n",
        "plt.show()"
      ],
      "execution_count": 80,
      "outputs": [
        {
          "output_type": "display_data",
          "data": {
            "image/png": "[encoded data removed]",
            "text/plain": [
              "<Figure size 432x288 with 1 Axes>"
            ]
          },
          "metadata": {
            "tags": [],
            "needs_background": "light"
          }
        }
      ]
    },
    {
      "cell_type": "markdown",
      "metadata": {
        "id": "8I4MO2KALY7t",
        "colab_type": "text"
      },
      "source": [
        "# Multiple Linear Regression\n",
        "Select all features."
      ]
    },
    {
      "cell_type": "code",
      "metadata": {
        "id": "t05kOqWgM2jZ",
        "colab_type": "code",
        "outputId": "0e10c64e-55bd-4dc1-fb81-7d67e9d7ff4f",
        "colab": {
          "base_uri": "https://localhost:8080/",
          "height": 51
        }
      },
      "source": [
        "df_copy = df_orig\n",
        "X = df_copy.loc[:, df_copy.columns != 'SalesPrice']# code comes here\n",
        "y = np.array(df_orig[['SalesPrice']])# code comes here\n",
        "print(X.shape) # Vewing the shape of X\n",
        "print(y.shape) # Vewing the shape of y"
      ],
      "execution_count": 81,
      "outputs": [
        {
          "output_type": "stream",
          "text": [
            "(2930, 304)\n",
            "(2930, 1)\n"
          ],
          "name": "stdout"
        }
      ]
    },
    {
      "cell_type": "markdown",
      "metadata": {
        "id": "NOfkzavRNr_p",
        "colab_type": "text"
      },
      "source": [
        "## Rescale the input features. Use MinMaxScaler."
      ]
    },
    {
      "cell_type": "code",
      "metadata": {
        "id": "CgerTDdWN3ZV",
        "colab_type": "code",
        "colab": {}
      },
      "source": [
        "from sklearn.preprocessing import MinMaxScaler\n",
        "scaler = MinMaxScaler()\n",
        "X = scaler.fit_transform(X)"
      ],
      "execution_count": 0,
      "outputs": []
    },
    {
      "cell_type": "markdown",
      "metadata": {
        "id": "LPWhiLEQOJXV",
        "colab_type": "text"
      },
      "source": [
        "## Train test split."
      ]
    },
    {
      "cell_type": "code",
      "metadata": {
        "id": "hWHQsWD-OR0X",
        "colab_type": "code",
        "colab": {}
      },
      "source": [
        "(train_x, test_x, train_y, test_y) = train_test_split(X, y, test_size=0.2, random_state = 0)# code comes here"
      ],
      "execution_count": 0,
      "outputs": []
    },
    {
      "cell_type": "markdown",
      "metadata": {
        "id": "ta9ugqFEO-3h",
        "colab_type": "text"
      },
      "source": [
        "## Fit regression model."
      ]
    },
    {
      "cell_type": "code",
      "metadata": {
        "id": "tE3FFQAJOz45",
        "colab_type": "code",
        "outputId": "acab8137-1fdf-4d86-c2b6-051c63c17b8b",
        "colab": {
          "base_uri": "https://localhost:8080/",
          "height": 34
        }
      },
      "source": [
        "regressor = linear_model.LinearRegression()\n",
        "# Fiting the dataset into the model\n",
        "regressor.fit(train_x,train_y) "
      ],
      "execution_count": 84,
      "outputs": [
        {
          "output_type": "execute_result",
          "data": {
            "text/plain": [
              "LinearRegression(copy_X=True, fit_intercept=True, n_jobs=None, normalize=False)"
            ]
          },
          "metadata": {
            "tags": []
          },
          "execution_count": 84
        }
      ]
    },
    {
      "cell_type": "markdown",
      "metadata": {
        "id": "ai5eB9elPNOY",
        "colab_type": "text"
      },
      "source": [
        "## Calculate train and test R2."
      ]
    },
    {
      "cell_type": "code",
      "metadata": {
        "id": "pbJWBEnRPOg_",
        "colab_type": "code",
        "outputId": "4b2af5a4-16f4-4081-9aa3-a9891c12dc99",
        "colab": {
          "base_uri": "https://localhost:8080/",
          "height": 51
        }
      },
      "source": [
        "pred_y = regressor.predict(train_x)\n",
        "# code comes here\n",
        "print(\"Train:\", r2_score(train_y,pred_y)) \n",
        "\n",
        "pred_y = regressor.predict(test_x)\n",
        "# code comes here\n",
        "print(\"Test:\", r2_score(test_y,pred_y)) "
      ],
      "execution_count": 85,
      "outputs": [
        {
          "output_type": "stream",
          "text": [
            "Train: 0.943037793827781\n",
            "Test: -8.624046079362404e+18\n"
          ],
          "name": "stdout"
        }
      ]
    },
    {
      "cell_type": "markdown",
      "metadata": {
        "id": "iZTYM-76v__6",
        "colab_type": "text"
      },
      "source": [
        "## Print the regression coefficients."
      ]
    },
    {
      "cell_type": "code",
      "metadata": {
        "id": "tw10OFDUwDtY",
        "colab_type": "code",
        "outputId": "dc72d71c-343e-45bf-bd1c-283afdb48aa6",
        "colab": {
          "base_uri": "https://localhost:8080/",
          "height": 1000
        }
      },
      "source": [
        "print('Regressor coeffients for multiple linear regression:',regressor.coef_)"
      ],
      "execution_count": 86,
      "outputs": [
        {
          "output_type": "stream",
          "text": [
            "Regressor coeffients for multiple linear regression: [[-1.10338833e+04  1.89184890e+04  1.35169349e+05  6.37435307e+04\n",
            "   4.73233097e+04  4.80683030e+04  2.14054890e+03  4.46848644e+04\n",
            "   2.54181867e+16  6.87245798e+15  1.05203551e+16 -2.75168534e+16\n",
            "   8.08413296e+15  3.50635047e+15  1.80666193e+15 -9.01293379e+15\n",
            "   4.61796160e+03 -1.35406724e+03  8.58128020e+03  2.60377916e+03\n",
            "  -3.63930504e+04 -4.23190552e+04  7.46807727e+03  3.41213719e+04\n",
            "   9.90262017e+03  2.24545304e+04  1.67651455e+04  1.02799541e+04\n",
            "  -1.24255943e+03  8.07242232e+03 -5.29505228e+02  2.49627901e+04\n",
            "  -4.14457006e+04  1.29169844e+04 -2.26950000e+03 -3.01337500e+03\n",
            "   2.19148936e+15  2.19148936e+15  2.19148936e+15  2.19148936e+15\n",
            "   2.19148936e+15  2.19148936e+15  2.19148936e+15 -1.40754617e+15\n",
            "  -1.40754617e+15  8.90750000e+02 -3.24250000e+03  9.65912107e+15\n",
            "   9.65912107e+15  9.65912107e+15  9.65912107e+15  4.34390440e+14\n",
            "   4.34390440e+14  4.34390440e+14  4.34390440e+14  3.13143299e+15\n",
            "   3.13143299e+15  3.13143299e+15 -5.39989802e+14 -5.39989802e+14\n",
            "  -5.39989802e+14 -5.39989802e+14 -5.39989802e+14  1.65978005e+15\n",
            "   1.65978005e+15  1.65978005e+15 -5.20475364e+14 -5.20475364e+14\n",
            "  -5.20475364e+14 -5.20475364e+14 -5.20475364e+14 -5.20475364e+14\n",
            "  -5.20475364e+14 -5.20475364e+14 -5.20475364e+14 -5.20475364e+14\n",
            "  -5.20475364e+14 -5.20475364e+14 -8.85681664e+14 -5.20475364e+14\n",
            "  -5.20475364e+14 -5.20475364e+14 -5.20475364e+14 -5.20475364e+14\n",
            "  -5.20475364e+14 -5.20475364e+14 -5.20475364e+14 -5.20475364e+14\n",
            "  -5.20475364e+14 -5.20475364e+14 -5.20475364e+14 -5.20475364e+14\n",
            "  -5.20475364e+14 -5.20475364e+14 -1.26984496e+15 -1.26984496e+15\n",
            "  -1.26984496e+15 -1.26984496e+15 -1.26984496e+15 -1.26984496e+15\n",
            "  -1.26984496e+15 -1.26984496e+15 -1.26984496e+15 -8.04228086e+14\n",
            "  -8.04228086e+14 -8.04228086e+14 -8.04228086e+14 -8.04228086e+14\n",
            "  -8.04228086e+14 -8.04228086e+14 -8.04228086e+14 -1.77240614e+16\n",
            "  -1.77240614e+16 -1.77240614e+16 -1.77240614e+16 -1.77240614e+16\n",
            "  -1.25332531e+16 -1.25332531e+16 -1.25332531e+16 -1.25332531e+16\n",
            "  -1.25332531e+16 -1.25332531e+16 -1.25332531e+16 -1.25332531e+16\n",
            "  -2.64008828e+16 -2.64008828e+16 -2.64008828e+16 -2.64008828e+16\n",
            "  -2.64008828e+16 -2.64008828e+16  1.36138716e+15  1.36138716e+15\n",
            "   1.36138716e+15  1.36138716e+15  2.06138064e+13  1.36138716e+15\n",
            "   1.36138716e+15  1.36138716e+15  2.07861177e+15  2.07861177e+15\n",
            "   2.07861177e+15  2.07861177e+15  2.07861177e+15  2.07861177e+15\n",
            "   2.07861177e+15  2.07861177e+15  2.07861177e+15  2.07861177e+15\n",
            "   3.79263986e+15  2.07861177e+15  2.07861177e+15  2.07861177e+15\n",
            "   2.07861177e+15  2.07861177e+15  5.58956253e+15  5.58956253e+15\n",
            "   5.58956253e+15  5.58956253e+15  5.58956253e+15  5.58956253e+15\n",
            "   5.58956253e+15  5.58956253e+15  5.58956253e+15 -3.76957937e+11\n",
            "   5.58956253e+15  3.87553444e+15  5.58956253e+15  5.58956253e+15\n",
            "   5.58956253e+15  5.58956253e+15  5.58956253e+15 -1.86265625e+03\n",
            "   4.07800000e+03 -8.26896289e+04  9.75400000e+03  1.04226250e+04\n",
            "   3.82448468e+15  3.82448468e+15  3.82448468e+15  3.82448468e+15\n",
            "  -3.82586297e+15 -3.82586297e+15 -3.82586297e+15 -3.82586297e+15\n",
            "  -3.82586297e+15 -1.62483475e+16 -1.62483475e+16 -1.62483475e+16\n",
            "  -1.62483475e+16 -1.62483475e+16 -1.62483475e+16 -6.44777894e+15\n",
            "  -6.44777894e+15 -6.44777894e+15 -6.44777894e+15 -6.44777894e+15\n",
            "   1.18328150e+16  1.18328150e+16  1.18328150e+16  1.18328150e+16\n",
            "   1.18328150e+16  8.59500000e+03  1.93000000e+04  2.74718750e+03\n",
            "   3.46300000e+03 -5.38503603e+15 -5.38503603e+15 -5.38503603e+15\n",
            "  -5.38503603e+15 -5.38503603e+15 -5.38503603e+15  2.97486250e+04\n",
            "   2.31065000e+04  3.61783125e+04  1.82723750e+04  2.09688750e+04\n",
            "   2.66840000e+04 -1.46778062e+15 -1.46778062e+15 -1.46778062e+15\n",
            "  -1.46778062e+15 -1.46778062e+15 -1.46778062e+15  1.98877133e+15\n",
            "   1.98877133e+15  1.98877133e+15  1.98877133e+15  1.98877133e+15\n",
            "  -7.56704964e+14 -7.56704964e+14 -1.39850000e+04 -1.54220625e+04\n",
            "  -1.47726250e+04 -8.70690625e+03 -1.46547500e+04 -3.63127613e+15\n",
            "  -3.63127613e+15 -3.63127613e+15 -3.63127613e+15 -3.63127613e+15\n",
            "   2.53265070e+15  2.53265070e+15  2.53265070e+15  2.53265070e+15\n",
            "   2.53265070e+15  2.53265070e+15  2.53265070e+15  2.53265070e+15\n",
            "  -4.00900000e+03 -1.12649375e+04 -7.90356250e+03 -4.26037500e+03\n",
            "  -8.15300000e+03 -2.35693125e+04 -1.53530000e+04 -8.73562500e+03\n",
            "  -1.50812500e+04 -1.33122500e+04 -1.41895000e+04 -1.48768263e+14\n",
            "  -1.48768263e+14 -1.48768263e+14 -2.83860820e+15 -2.83860820e+15\n",
            "  -2.83860820e+15 -2.83860820e+15 -2.83860820e+15  2.98737646e+15\n",
            "   2.98737646e+15  2.98737646e+15  2.98737646e+15  2.98737646e+15\n",
            "   8.76098723e+14  8.76098723e+14  8.76098723e+14  1.01600656e+05\n",
            "   6.43309688e+04  4.36024375e+04  2.71863672e+04 -2.22112500e+03\n",
            "   9.79500000e+02  2.33800000e+03  3.00575000e+03  0.00000000e+00\n",
            "  -2.61075000e+03  3.55918438e+04  1.79212500e+03 -7.22166953e+04\n",
            "  -6.93939698e+15 -6.93939698e+15 -6.93939698e+15 -6.93939698e+15\n",
            "  -6.93939698e+15 -6.93939698e+15 -6.93939698e+15 -6.93939698e+15\n",
            "  -6.93939698e+15 -6.93939698e+15  2.89989484e+15  2.89989484e+15\n",
            "   2.89989484e+15  2.89989484e+15  2.89989484e+15  2.89989484e+15]]\n"
          ],
          "name": "stdout"
        }
      ]
    },
    {
      "cell_type": "markdown",
      "metadata": {
        "id": "PtwgWJvwQfo-",
        "colab_type": "text"
      },
      "source": [
        "# Ridge Regression\n",
        "https://scikit-learn.org/stable/modules/generated/sklearn.model_selection.KFold.html\n",
        "\n",
        "https://scikit-learn.org/stable/modules/generated/sklearn.linear_model.RidgeCV.html\n",
        "\n",
        "## Use cross-validation to estimate alpha. Set the fold size to 5."
      ]
    },
    {
      "cell_type": "code",
      "metadata": {
        "id": "niasM1bHSO0r",
        "colab_type": "code",
        "colab": {}
      },
      "source": [
        "from sklearn.model_selection import KFold\n",
        "from sklearn.linear_model import RidgeCV\n",
        "kfold = KFold(n_splits=5)\n",
        "\n",
        "alphas=[1e-3, 1e-2, 1e-1, 1, 2, 5, 8, 10]\n",
        "# Create and fit model\n",
        "model_rcv = RidgeCV(alphas= alphas, cv = kfold).fit(train_x,train_y)\n",
        "# code comes here"
      ],
      "execution_count": 0,
      "outputs": []
    },
    {
      "cell_type": "markdown",
      "metadata": {
        "id": "WuXiTAzbTw-E",
        "colab_type": "text"
      },
      "source": [
        "## Calculate the train and test R2."
      ]
    },
    {
      "cell_type": "code",
      "metadata": {
        "id": "uljtYcwlUasT",
        "colab_type": "code",
        "outputId": "acba1f5a-df84-4aee-b9ed-3555ffa00898",
        "colab": {
          "base_uri": "https://localhost:8080/",
          "height": 51
        }
      },
      "source": [
        "pred_y = model_rcv.predict(train_x)\n",
        "# code comes here\n",
        "print(\"Train:\", r2_score(train_y,pred_y)) \n",
        "\n",
        "pred_y = model_rcv.predict(test_x)\n",
        "# code comes here\n",
        "print(\"Test:\", r2_score(test_y,pred_y)) "
      ],
      "execution_count": 88,
      "outputs": [
        {
          "output_type": "stream",
          "text": [
            "Train: 0.9211536946303333\n",
            "Test: 0.841271168982664\n"
          ],
          "name": "stdout"
        }
      ]
    },
    {
      "cell_type": "markdown",
      "metadata": {
        "id": "h8tDKPJHUkuG",
        "colab_type": "text"
      },
      "source": [
        "## Print the best alpha."
      ]
    },
    {
      "cell_type": "code",
      "metadata": {
        "id": "1EUQMEgnUr0k",
        "colab_type": "code",
        "outputId": "de99867d-2a22-40b4-c226-09293180d0e1",
        "colab": {
          "base_uri": "https://localhost:8080/",
          "height": 34
        }
      },
      "source": [
        "print(\"Alpha:\", model_rcv.alpha_)"
      ],
      "execution_count": 89,
      "outputs": [
        {
          "output_type": "stream",
          "text": [
            "Alpha: 5.0\n"
          ],
          "name": "stdout"
        }
      ]
    },
    {
      "cell_type": "markdown",
      "metadata": {
        "id": "hK4tYYscvyJG",
        "colab_type": "text"
      },
      "source": [
        "## Print the regression coefficients."
      ]
    },
    {
      "cell_type": "code",
      "metadata": {
        "id": "KBcaia_5v5fF",
        "colab_type": "code",
        "outputId": "55a030df-9cd5-42f0-a91a-b75f4b097efc",
        "colab": {
          "base_uri": "https://localhost:8080/",
          "height": 1000
        }
      },
      "source": [
        "print('Regressor coeffients for ridge regression:',model_rcv.coef_[0])"
      ],
      "execution_count": 90,
      "outputs": [
        {
          "output_type": "stream",
          "text": [
            "Regressor coeffients for ridge regression: [-8.94952386e+03  3.35550041e+03  3.04846534e+04  6.68498722e+04\n",
            "  3.05615859e+04  1.75659684e+04  4.93787974e+03  4.16958358e+04\n",
            "  4.44751522e+04  1.11670034e+04  3.85290916e+03  4.53451722e+04\n",
            "  6.94857589e+04  4.92754654e+04  5.11296997e+03  8.25199198e+04\n",
            "  1.88330356e+04  2.74594773e+03  2.70704980e+04  1.00103564e+04\n",
            " -6.87684290e+03 -1.11986756e+04  2.71132357e+04  3.43808528e+04\n",
            "  2.93306543e+03  3.02124218e+04  2.16554029e+04  1.38166376e+04\n",
            "  2.17693238e+03  5.21428789e+03  2.05788887e+03  2.38469165e+04\n",
            "  4.64894464e+03  3.37674364e+03 -2.70177469e+03 -4.22464990e+03\n",
            " -2.74176134e+03 -6.17726657e+03  3.00246759e+03  2.10882728e+03\n",
            "  3.78362835e+03  2.14302179e+03 -2.11891710e+03 -3.96240197e+03\n",
            "  3.96240197e+03 -4.74760984e+02 -9.33829604e+02  2.01049257e+03\n",
            "  8.69345341e+03 -1.16151924e+04  9.11246444e+02 -6.35354146e+03\n",
            "  6.09403042e+03  5.62294689e+02 -3.02783655e+02  5.73874039e+03\n",
            " -3.73370108e+03 -2.00503931e+03  9.30400381e+01  6.46626747e+03\n",
            " -3.18817549e+03 -4.41182244e+03  1.04069042e+03 -3.12590312e+02\n",
            "  2.77317659e+03 -2.46058628e+03 -5.37933017e+03  2.59292022e+03\n",
            "  3.17546524e+03 -3.53662164e+03 -4.33426061e+03 -9.11769969e+03\n",
            "  9.13271524e+03 -1.33849262e+04 -1.17402374e+04 -2.73621149e+02\n",
            "  2.37741580e+04 -8.03621921e+03  0.00000000e+00 -6.47099547e+03\n",
            " -1.04700890e+04 -1.24580361e+04  5.73668965e+03 -1.05674868e+04\n",
            "  3.63384770e+04  1.73644289e+04 -1.20076956e+04 -1.02034098e+04\n",
            " -8.05021853e+03 -7.28549716e+03  7.25552390e+03  3.11994417e+04\n",
            " -5.03746683e+03  1.78399134e+03 -3.96444132e+03 -5.72552108e+03\n",
            "  5.07761271e+03  1.11772700e+04  1.11351101e+04 -6.28485608e+03\n",
            " -7.38240289e+02 -3.07927174e+03 -7.59766236e+03 -3.53058602e+03\n",
            " -5.47526962e+03 -8.79273695e+03  2.03719229e+04  7.77854195e+02\n",
            " -2.32631251e+03  8.00254855e+01 -1.10489748e+03  1.34663139e+04\n",
            "  5.86925722e+03 -2.67302231e+03 -1.16759541e+04 -4.98659462e+03\n",
            " -1.60456369e+03  2.54488969e+03  5.05824613e+03  1.86339020e+03\n",
            " -2.12665512e+02 -5.03248649e+03  8.86768607e+02 -3.50357893e+03\n",
            " -2.73579568e+03  3.55163305e+03  3.30156563e+03  5.52349058e+03\n",
            " -8.30831771e+03 -1.33257588e+03 -6.04019143e+04  5.61654798e+03\n",
            "  5.31356466e+03  1.09265351e+03  0.00000000e+00  1.07577872e+03\n",
            "  6.19723125e+03  4.11061381e+04 -3.70533985e+03 -7.60242658e+02\n",
            "  5.13971311e+03  1.90906718e+04  7.42500043e+02 -1.75805216e+03\n",
            " -6.26940024e+03 -4.57897095e+03 -2.48263552e+02 -2.13412642e+03\n",
            "  1.08409018e+04  2.78751994e+03 -7.49881424e+03 -4.79961891e+03\n",
            " -3.65164025e+03 -3.19683739e+03 -2.04582588e+03  2.36764971e+03\n",
            " -2.22607172e+03 -5.72494155e+03 -3.54545737e+03  5.30159134e+03\n",
            "  6.07705581e+02  1.35582833e+04 -1.61574783e+03  0.00000000e+00\n",
            " -3.01415510e+03  1.08409018e+04 -5.88367964e+03 -9.56798303e+03\n",
            "  3.48445521e+03 -3.68750377e+02 -2.16797444e+03 -3.07368268e+03\n",
            "  3.31283945e+03 -4.73141716e+03  7.35981406e+03  7.02197464e+03\n",
            "  2.13691230e+04 -4.41751798e+03 -5.68121665e+03 -1.12703884e+04\n",
            " -6.95916168e+02 -5.69091404e+02  2.44088587e+03 -4.67426208e+03\n",
            "  3.49838378e+03 -6.98554210e+02  1.04404304e+03  2.48266220e+03\n",
            " -2.75845389e+03  3.06406116e+03 -3.13375830e+03  1.54378134e+04\n",
            " -9.17716326e+02 -2.84141448e+03  8.04929773e+02 -3.58026381e+03\n",
            "  8.48180788e+02  1.30308013e+03  2.21576172e+03  2.22338739e+03\n",
            "  2.31293853e+03  2.91329555e+03  1.80189533e+04 -3.62400459e+03\n",
            " -4.40013050e+03  3.26671519e+03  1.63375594e+03  6.29296186e+03\n",
            " -1.94858747e+03  4.71092036e+02 -8.12588996e+02  5.30595009e+03\n",
            " -2.01389442e+03  7.31876911e+03 -3.12759187e+03 -1.21607504e+03\n",
            "  1.94653733e+03 -4.90107391e+02 -1.37207871e+03  5.36896607e+03\n",
            " -2.12316837e+03 -3.22018600e+03  1.83657440e+03  5.10699645e+03\n",
            " -2.21697240e+03  2.19588004e+03 -6.03536727e+03  9.49463174e+02\n",
            "  3.47084071e+01 -3.47084071e+01 -2.10779029e+03 -6.33741820e+02\n",
            "  1.38469270e+03  8.19591340e+02 -1.46668306e+03  1.77909167e+04\n",
            " -6.92430189e+03 -5.67300930e+03  2.23382149e+03 -7.42742696e+03\n",
            " -2.60722455e+03 -4.01965845e+03  4.02378841e+03  2.06983646e+03\n",
            " -7.22122328e+02 -4.52943960e+03 -4.41604589e+03  1.02008659e+04\n",
            "  1.09739958e+04 -8.11881759e+03 -2.22573872e+03 -3.16648323e+03\n",
            " -2.03693282e+03 -8.34780172e+03  7.71879291e+02  8.92508657e+02\n",
            "  4.80090837e+02 -1.92277922e+03 -1.41292664e+03 -7.39991236e+02\n",
            " -4.81126765e+03 -8.28140716e+02  1.30549527e+04 -9.58191513e+03\n",
            "  4.88367846e+03 -5.60909180e+03 -9.12702378e+03 -8.43603091e+03\n",
            "  2.10096268e+03 -4.21616831e+03 -1.85433858e+03  6.02617552e+03\n",
            "  2.27687416e+02 -1.30329726e+03  1.07560984e+03  5.03079641e+04\n",
            " -2.06868973e+02 -4.43702785e+04  6.46345539e+03  1.42240031e+03\n",
            "  3.99236500e+02  1.82690246e+03  8.07155778e+02  0.00000000e+00\n",
            "  2.28598227e+03  7.19627124e+03 -4.40979983e+00 -3.65509257e+03\n",
            " -5.29635064e+03  4.55550492e+03  1.05582488e+04 -3.03020210e+03\n",
            " -3.44531675e+03 -9.19815282e+02  5.01473210e+03 -1.22877877e+03\n",
            " -1.84918807e+03 -4.35883421e+03 -7.21813341e+03  6.51230699e+03\n",
            "  6.08058750e+03 -9.28416861e+03  2.27682362e+03  1.63258391e+03]\n"
          ],
          "name": "stdout"
        }
      ]
    }
  ]
}